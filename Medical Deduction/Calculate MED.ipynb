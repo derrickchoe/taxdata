{
 "cells": [
  {
   "cell_type": "code",
   "execution_count": 1,
   "metadata": {
    "collapsed": true
   },
   "outputs": [],
   "source": [
    "import os\n",
    "os.chdir('/Users/derrick.cho/Desktop/Tax-Calculator')\n",
    "import pandas as pd\n",
    "import numpy as np\n",
    "import taxcalc as tc"
   ]
  },
  {
   "cell_type": "code",
   "execution_count": 2,
   "metadata": {
    "collapsed": true
   },
   "outputs": [],
   "source": [
    "# 2017 Reform\n",
    "path_name = 'taxcalc/reforms/2017_law.json'\n",
    "jfile = open(path_name, 'r')\n",
    "jtext = jfile.read()\n",
    "jfile.close()\n",
    "reform2017 = tc.Calculator._read_json_policy_reform_text(jtext, {}, {})\n",
    " \n",
    "pol2017 = tc.Policy()\n",
    "pol2017.implement_reform(reform2017)\n"
   ]
  },
  {
   "cell_type": "code",
   "execution_count": 3,
   "metadata": {},
   "outputs": [
    {
     "data": {
      "text/html": [
       "<div>\n",
       "<style>\n",
       "    .dataframe thead tr:only-child th {\n",
       "        text-align: right;\n",
       "    }\n",
       "\n",
       "    .dataframe thead th {\n",
       "        text-align: left;\n",
       "    }\n",
       "\n",
       "    .dataframe tbody tr th {\n",
       "        vertical-align: top;\n",
       "    }\n",
       "</style>\n",
       "<table border=\"1\" class=\"dataframe\">\n",
       "  <thead>\n",
       "    <tr style=\"text-align: right;\">\n",
       "      <th></th>\n",
       "      <th>2016</th>\n",
       "      <th>2017</th>\n",
       "      <th>2018</th>\n",
       "      <th>2019</th>\n",
       "      <th>2020</th>\n",
       "      <th>2021</th>\n",
       "      <th>2022</th>\n",
       "      <th>2023</th>\n",
       "      <th>2024</th>\n",
       "      <th>2025</th>\n",
       "      <th>2026</th>\n",
       "      <th>2027</th>\n",
       "    </tr>\n",
       "  </thead>\n",
       "  <tbody>\n",
       "    <tr>\n",
       "      <th>0</th>\n",
       "      <td>8189.2000</td>\n",
       "      <td>8567.300000</td>\n",
       "      <td>8947.900000</td>\n",
       "      <td>9291.700000</td>\n",
       "      <td>9616.100000</td>\n",
       "      <td>9966.000000</td>\n",
       "      <td>10350.800000</td>\n",
       "      <td>10757.800000</td>\n",
       "      <td>11180.800000</td>\n",
       "      <td>11621.200000</td>\n",
       "      <td>12079.700000</td>\n",
       "      <td>12557.500000</td>\n",
       "    </tr>\n",
       "    <tr>\n",
       "      <th>1</th>\n",
       "      <td>1.0000</td>\n",
       "      <td>1.046171</td>\n",
       "      <td>1.092646</td>\n",
       "      <td>1.134629</td>\n",
       "      <td>1.174242</td>\n",
       "      <td>1.216969</td>\n",
       "      <td>1.263957</td>\n",
       "      <td>1.313657</td>\n",
       "      <td>1.365310</td>\n",
       "      <td>1.419089</td>\n",
       "      <td>1.475077</td>\n",
       "      <td>1.533422</td>\n",
       "    </tr>\n",
       "    <tr>\n",
       "      <th>2</th>\n",
       "      <td>1.0386</td>\n",
       "      <td>1.056500</td>\n",
       "      <td>1.073000</td>\n",
       "      <td>1.087500</td>\n",
       "      <td>1.100300</td>\n",
       "      <td>1.113300</td>\n",
       "      <td>1.125800</td>\n",
       "      <td>1.138400</td>\n",
       "      <td>1.151100</td>\n",
       "      <td>1.164000</td>\n",
       "      <td>1.177100</td>\n",
       "      <td>1.190200</td>\n",
       "    </tr>\n",
       "    <tr>\n",
       "      <th>3</th>\n",
       "      <td>1.0000</td>\n",
       "      <td>1.017235</td>\n",
       "      <td>1.033122</td>\n",
       "      <td>1.047083</td>\n",
       "      <td>1.059407</td>\n",
       "      <td>1.071924</td>\n",
       "      <td>1.083959</td>\n",
       "      <td>1.096091</td>\n",
       "      <td>1.108319</td>\n",
       "      <td>1.120739</td>\n",
       "      <td>1.133353</td>\n",
       "      <td>1.145966</td>\n",
       "    </tr>\n",
       "  </tbody>\n",
       "</table>\n",
       "</div>"
      ],
      "text/plain": [
       "        2016         2017         2018         2019         2020         2021  \\\n",
       "0  8189.2000  8567.300000  8947.900000  9291.700000  9616.100000  9966.000000   \n",
       "1     1.0000     1.046171     1.092646     1.134629     1.174242     1.216969   \n",
       "2     1.0386     1.056500     1.073000     1.087500     1.100300     1.113300   \n",
       "3     1.0000     1.017235     1.033122     1.047083     1.059407     1.071924   \n",
       "\n",
       "           2022          2023          2024          2025          2026  \\\n",
       "0  10350.800000  10757.800000  11180.800000  11621.200000  12079.700000   \n",
       "1      1.263957      1.313657      1.365310      1.419089      1.475077   \n",
       "2      1.125800      1.138400      1.151100      1.164000      1.177100   \n",
       "3      1.083959      1.096091      1.108319      1.120739      1.133353   \n",
       "\n",
       "           2027  \n",
       "0  12557.500000  \n",
       "1      1.533422  \n",
       "2      1.190200  \n",
       "3      1.145966  "
      ]
     },
     "execution_count": 3,
     "metadata": {},
     "output_type": "execute_result"
    }
   ],
   "source": [
    "wg = pd.read_excel('Notebooks/wgrowth16.xlsx')\n",
    "wg"
   ]
  },
  {
   "cell_type": "code",
   "execution_count": 4,
   "metadata": {
    "scrolled": true
   },
   "outputs": [
    {
     "name": "stdout",
     "output_type": "stream",
     "text": [
      "You loaded data for 2011.\n",
      "Tax-Calculator startup automatically extrapolated your data to 2013.\n"
     ]
    }
   ],
   "source": [
    "calc = tc.Calculator(policy = pol2017, records = tc.Records())\n",
    "\n",
    "for y in range(2013,2028):\n",
    "    calc.advance_to_year(y)\n",
    "    calc.calc_all()\n",
    "    tdf = calc.dataframe(['c00100','c17000', 'c04470'])\n",
    "    if y > 2016:\n",
    "        tdf.c00100 = tdf.c00100/(wg[y][1] / wg[y][3])\n",
    "    cond = (tdf.c17000 > 0) & (tdf.c04470 > 0)\n",
    "    tdf['med2'] = np.where((tdf.c00100 < 30000) & cond, 1, 0)\n",
    "    tdf['med3'] = np.where((tdf.c00100 >= 30000) & (tdf.c00100 < 50000) & cond, 1, 0)\n",
    "    tdf['med4'] = np.where((tdf.c00100 >= 50000) & (tdf.c00100 < 100000) & cond, 1, 0)\n",
    "    tdf['med5'] = np.where((tdf.c00100 >= 100000) & (tdf.c00100 < 200000) & cond, 1, 0)\n",
    "    tdf['med6'] = np.where((tdf.c00100 >= 200000) & cond, 1, 0)\n",
    "\n",
    "\n",
    "    tdf.to_csv('/Users/derrick.cho/Desktop/taxdata/puf_data/med' + str(y) + '.csv')"
   ]
  }
 ],
 "metadata": {
  "kernelspec": {
   "display_name": "Python 3",
   "language": "python",
   "name": "python3"
  },
  "language_info": {
   "codemirror_mode": {
    "name": "ipython",
    "version": 3
   },
   "file_extension": ".py",
   "mimetype": "text/x-python",
   "name": "python",
   "nbconvert_exporter": "python",
   "pygments_lexer": "ipython3",
   "version": "3.6.3"
  }
 },
 "nbformat": 4,
 "nbformat_minor": 2
}
