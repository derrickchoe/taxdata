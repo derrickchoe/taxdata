{
 "cells": [
  {
   "cell_type": "code",
   "execution_count": 1,
   "metadata": {},
   "outputs": [],
   "source": [
    "import numpy as np\n",
    "import pandas as pd\n",
    "from pandas import DataFrame as df\n",
    "from cylp.cy import CyClpSimplex\n",
    "from cylp.py.modeling.CyLPModel import CyLPArray, CyLPModel\n",
    "import sys\n",
    "sys.path.append(\"/Users/derrick.cho/Desktop/taxdata/puf_stage2\")\n",
    "from solve_lp_for_year import solve_lp_for_year"
   ]
  },
  {
   "cell_type": "code",
   "execution_count": 2,
   "metadata": {
    "collapsed": true
   },
   "outputs": [],
   "source": [
    "puf = pd.read_csv(\"../../puf_data/cps-matched-puf.csv\")\n",
    "Stage_I_factors = df.from_csv(\"../../stage1/Stage_I_factors_transpose.csv\", index_col = 0)\n",
    "Stage_II_targets = df.from_csv(\"../../stage1/Stage_II_targets.csv\", index_col= 0)"
   ]
  },
  {
   "cell_type": "code",
   "execution_count": 3,
   "metadata": {
    "collapsed": true
   },
   "outputs": [],
   "source": [
    "length = len(puf.s006)\n",
    "z = np.empty([length, 18])\n",
    "z[:,0] = puf.s006/100"
   ]
  },
  {
   "cell_type": "code",
   "execution_count": 4,
   "metadata": {},
   "outputs": [
    {
     "name": "stdout",
     "output_type": "stream",
     "text": [
      "work work work\n"
     ]
    }
   ],
   "source": [
    "z[:,1] = solve_lp_for_year(puf, Stage_I_factors, Stage_II_targets, year = '2012', tol = 0.47)"
   ]
  },
  {
   "cell_type": "code",
   "execution_count": 5,
   "metadata": {},
   "outputs": [
    {
     "name": "stdout",
     "output_type": "stream",
     "text": [
      "work work work\n"
     ]
    }
   ],
   "source": [
    "z[:,2] = solve_lp_for_year(puf, Stage_I_factors, Stage_II_targets, year = '2013', tol = 0.48)"
   ]
  },
  {
   "cell_type": "code",
   "execution_count": 6,
   "metadata": {},
   "outputs": [
    {
     "name": "stdout",
     "output_type": "stream",
     "text": [
      "work work work\n"
     ]
    }
   ],
   "source": [
    "z[:,3] = solve_lp_for_year(puf, Stage_I_factors, Stage_II_targets, year = '2014', tol = 0.50)"
   ]
  },
  {
   "cell_type": "code",
   "execution_count": 7,
   "metadata": {},
   "outputs": [
    {
     "name": "stdout",
     "output_type": "stream",
     "text": [
      "work work work\n"
     ]
    }
   ],
   "source": [
    "z[:,4] = solve_lp_for_year(puf, Stage_I_factors, Stage_II_targets, year = '2015', tol = 0.50)"
   ]
  },
  {
   "cell_type": "code",
   "execution_count": 8,
   "metadata": {},
   "outputs": [
    {
     "name": "stdout",
     "output_type": "stream",
     "text": [
      "work work work\n"
     ]
    }
   ],
   "source": [
    "z[:,5] = solve_lp_for_year(puf, Stage_I_factors, Stage_II_targets, year = '2016', tol = 0.51)"
   ]
  },
  {
   "cell_type": "code",
   "execution_count": 9,
   "metadata": {},
   "outputs": [
    {
     "name": "stdout",
     "output_type": "stream",
     "text": [
      "work work work\n"
     ]
    }
   ],
   "source": [
    "z[:,6] = solve_lp_for_year(puf, Stage_I_factors, Stage_II_targets, year = '2017', tol = 0.51)"
   ]
  },
  {
   "cell_type": "code",
   "execution_count": 8,
   "metadata": {},
   "outputs": [
    {
     "name": "stdout",
     "output_type": "stream",
     "text": [
      "Preparing coefficient matrix for year 2018 .....\n",
      "Preparing targets for year 2018 .....\n",
      "Targets for year 2018 are:\n",
      "[ -5.98055858e+07  -5.73914814e+07  -9.35281749e+06  -2.60470536e+07\n",
      "  -7.57884193e+07  -6.32874724e+10  -9.87395874e+10  -2.20315550e+11\n",
      "  -3.59803193e+10  -1.55208203e+11  -5.85247816e+11  -1.78991412e+11\n",
      "  -4.11447400e+10  -4.46262522e+11  -8.50100529e+10  -1.16290744e+10\n",
      "  -8.80640547e+10  -2.48327808e+11  -3.45287308e+11  -3.65986404e+11\n",
      "  -3.55549383e+11  -8.97454905e+11  -7.89048852e+11  -1.41044837e+12\n",
      "  -4.61727210e+11   3.03528308e+10   5.57417304e+10   1.91837464e+06]\n",
      "Adding constraints for year 2018 .....\n",
      "Setting up the LP model for year 2018 .....\n",
      "Solving LP for year 2018 .....\n",
      "DONE solving LP for year 2018\n"
     ]
    }
   ],
   "source": [
    "z[:,7] = solve_lp_for_year(puf, Stage_I_factors, Stage_II_targets, year = '2018', tol = 1)"
   ]
  },
  {
   "cell_type": "code",
   "execution_count": 5,
   "metadata": {},
   "outputs": [
    {
     "name": "stdout",
     "output_type": "stream",
     "text": [
      "Preparing coefficient matrix for year 2019 .....\n",
      "Preparing targets for year 2019 .....\n",
      "Targets for year 2019 are:\n",
      "[ -6.11298793e+07  -5.87846495e+07  -9.51587574e+06  -2.69316305e+07\n",
      "  -7.81295544e+07  -6.70404460e+10  -1.04612751e+11  -2.26833246e+11\n",
      "  -3.71927540e+10  -1.64027322e+11  -6.13891227e+11  -1.89560915e+11\n",
      "  -4.39759976e+10  -4.61413529e+11  -8.71838715e+10  -1.19858349e+10\n",
      "  -9.00161514e+10  -2.53804884e+11  -3.52773185e+11  -3.73950799e+11\n",
      "  -3.63304489e+11  -9.16899246e+11  -8.06321260e+11  -1.44249731e+12\n",
      "  -4.74831829e+11   2.87287461e+10   5.37522578e+10   3.95633795e+06]\n",
      "Adding constraints for year 2019 .....\n",
      "Setting up the LP model for year 2019 .....\n",
      "Solving LP for year 2019 .....\n",
      "DONE solving LP for year 2019\n"
     ]
    }
   ],
   "source": [
    "z[:,8] = solve_lp_for_year(puf, Stage_I_factors, Stage_II_targets, year = '2019', tol = 0.52)"
   ]
  },
  {
   "cell_type": "code",
   "execution_count": 12,
   "metadata": {},
   "outputs": [
    {
     "name": "stdout",
     "output_type": "stream",
     "text": [
      "work work work\n"
     ]
    }
   ],
   "source": [
    "z[:,9] = solve_lp_for_year(puf, Stage_I_factors, Stage_II_targets, year = '2020', tol = 0.52)"
   ]
  },
  {
   "cell_type": "code",
   "execution_count": 13,
   "metadata": {},
   "outputs": [
    {
     "name": "stdout",
     "output_type": "stream",
     "text": [
      "work work work\n"
     ]
    }
   ],
   "source": [
    "z[:,10] = solve_lp_for_year(puf, Stage_I_factors, Stage_II_targets, year = '2021', tol = 0.52)"
   ]
  },
  {
   "cell_type": "code",
   "execution_count": 14,
   "metadata": {},
   "outputs": [
    {
     "name": "stdout",
     "output_type": "stream",
     "text": [
      "work work work\n"
     ]
    }
   ],
   "source": [
    "z[:,11] = solve_lp_for_year(puf, Stage_I_factors, Stage_II_targets, year = '2022', tol = 0.53)"
   ]
  },
  {
   "cell_type": "code",
   "execution_count": 15,
   "metadata": {},
   "outputs": [
    {
     "name": "stdout",
     "output_type": "stream",
     "text": [
      "work work work\n"
     ]
    }
   ],
   "source": [
    "z[:,12] = solve_lp_for_year(puf, Stage_I_factors, Stage_II_targets, year = '2023', tol = 0.53)"
   ]
  },
  {
   "cell_type": "code",
   "execution_count": 16,
   "metadata": {},
   "outputs": [
    {
     "name": "stdout",
     "output_type": "stream",
     "text": [
      "work work work\n"
     ]
    }
   ],
   "source": [
    "z[:,13] = solve_lp_for_year(puf, Stage_I_factors, Stage_II_targets, year = '2024', tol = 0.54)"
   ]
  },
  {
   "cell_type": "code",
   "execution_count": 17,
   "metadata": {},
   "outputs": [
    {
     "name": "stdout",
     "output_type": "stream",
     "text": [
      "work work work\n"
     ]
    }
   ],
   "source": [
    "z[:,14] = solve_lp_for_year(puf, Stage_I_factors, Stage_II_targets, year = '2025', tol = 0.55)"
   ]
  },
  {
   "cell_type": "code",
   "execution_count": 18,
   "metadata": {},
   "outputs": [
    {
     "name": "stdout",
     "output_type": "stream",
     "text": [
      "work work work\n"
     ]
    }
   ],
   "source": [
    "z[:,15] = solve_lp_for_year(puf, Stage_I_factors, Stage_II_targets, year = '2026', tol = 0.56)"
   ]
  },
  {
   "cell_type": "code",
   "execution_count": 19,
   "metadata": {},
   "outputs": [
    {
     "name": "stdout",
     "output_type": "stream",
     "text": [
      "work work work\n"
     ]
    }
   ],
   "source": [
    "z[:,17] = solve_lp_for_year(puf, Stage_I_factors, Stage_II_targets, year = '2027', tol = 0.56)"
   ]
  },
  {
   "cell_type": "code",
   "execution_count": 20,
   "metadata": {},
   "outputs": [
    {
     "ename": "ValueError",
     "evalue": "Shape of passed values is (18, 249087), indices imply (17, 249087)",
     "output_type": "error",
     "traceback": [
      "\u001b[0;31m---------------------------------------------------------------------------\u001b[0m",
      "\u001b[0;31mValueError\u001b[0m                                Traceback (most recent call last)",
      "\u001b[0;32m<ipython-input-20-7149720e43dd>\u001b[0m in \u001b[0;36m<module>\u001b[0;34m()\u001b[0m\n\u001b[1;32m      1\u001b[0m z = df(z, columns=['WT2011','WT2012','WT2013','WT2014',\n\u001b[1;32m      2\u001b[0m                    \u001b[0;34m'WT2015'\u001b[0m\u001b[0;34m,\u001b[0m\u001b[0;34m'WT2016'\u001b[0m\u001b[0;34m,\u001b[0m\u001b[0;34m'WT2017'\u001b[0m\u001b[0;34m,\u001b[0m\u001b[0;34m'WT2018'\u001b[0m\u001b[0;34m,\u001b[0m\u001b[0;34m'WT2019'\u001b[0m\u001b[0;34m,\u001b[0m\u001b[0;34m'WT2020'\u001b[0m\u001b[0;34m,\u001b[0m\u001b[0;34m'WT2021'\u001b[0m\u001b[0;34m,\u001b[0m\u001b[0;34m\u001b[0m\u001b[0m\n\u001b[0;32m----> 3\u001b[0;31m                    'WT2022','WT2023','WT2024', 'WT2025', 'WT2026', 'WT2027'])\n\u001b[0m\u001b[1;32m      4\u001b[0m \u001b[0mz\u001b[0m \u001b[0;34m=\u001b[0m \u001b[0mz\u001b[0m\u001b[0;34m.\u001b[0m\u001b[0mround\u001b[0m\u001b[0;34m(\u001b[0m\u001b[0;36m0\u001b[0m\u001b[0;34m)\u001b[0m\u001b[0;34m.\u001b[0m\u001b[0mastype\u001b[0m\u001b[0;34m(\u001b[0m\u001b[0;34m'int64'\u001b[0m\u001b[0;34m)\u001b[0m\u001b[0;34m\u001b[0m\u001b[0m\n\u001b[1;32m      5\u001b[0m \u001b[0mz\u001b[0m\u001b[0;34m.\u001b[0m\u001b[0mto_csv\u001b[0m\u001b[0;34m(\u001b[0m\u001b[0;34m'puf_weights.csv'\u001b[0m\u001b[0;34m,\u001b[0m \u001b[0mindex\u001b[0m \u001b[0;34m=\u001b[0m \u001b[0mFalse\u001b[0m\u001b[0;34m)\u001b[0m\u001b[0;34m\u001b[0m\u001b[0m\n",
      "\u001b[0;32m/Users/derrick.cho/anaconda3/envs/taxdata_temp/lib/python2.7/site-packages/pandas/core/frame.pyc\u001b[0m in \u001b[0;36m__init__\u001b[0;34m(self, data, index, columns, dtype, copy)\u001b[0m\n\u001b[1;32m    304\u001b[0m             \u001b[0;32melse\u001b[0m\u001b[0;34m:\u001b[0m\u001b[0;34m\u001b[0m\u001b[0m\n\u001b[1;32m    305\u001b[0m                 mgr = self._init_ndarray(data, index, columns, dtype=dtype,\n\u001b[0;32m--> 306\u001b[0;31m                                          copy=copy)\n\u001b[0m\u001b[1;32m    307\u001b[0m         \u001b[0;32melif\u001b[0m \u001b[0misinstance\u001b[0m\u001b[0;34m(\u001b[0m\u001b[0mdata\u001b[0m\u001b[0;34m,\u001b[0m \u001b[0;34m(\u001b[0m\u001b[0mlist\u001b[0m\u001b[0;34m,\u001b[0m \u001b[0mtypes\u001b[0m\u001b[0;34m.\u001b[0m\u001b[0mGeneratorType\u001b[0m\u001b[0;34m)\u001b[0m\u001b[0;34m)\u001b[0m\u001b[0;34m:\u001b[0m\u001b[0;34m\u001b[0m\u001b[0m\n\u001b[1;32m    308\u001b[0m             \u001b[0;32mif\u001b[0m \u001b[0misinstance\u001b[0m\u001b[0;34m(\u001b[0m\u001b[0mdata\u001b[0m\u001b[0;34m,\u001b[0m \u001b[0mtypes\u001b[0m\u001b[0;34m.\u001b[0m\u001b[0mGeneratorType\u001b[0m\u001b[0;34m)\u001b[0m\u001b[0;34m:\u001b[0m\u001b[0;34m\u001b[0m\u001b[0m\n",
      "\u001b[0;32m/Users/derrick.cho/anaconda3/envs/taxdata_temp/lib/python2.7/site-packages/pandas/core/frame.pyc\u001b[0m in \u001b[0;36m_init_ndarray\u001b[0;34m(self, values, index, columns, dtype, copy)\u001b[0m\n\u001b[1;32m    481\u001b[0m             \u001b[0mvalues\u001b[0m \u001b[0;34m=\u001b[0m \u001b[0mmaybe_infer_to_datetimelike\u001b[0m\u001b[0;34m(\u001b[0m\u001b[0mvalues\u001b[0m\u001b[0;34m)\u001b[0m\u001b[0;34m\u001b[0m\u001b[0m\n\u001b[1;32m    482\u001b[0m \u001b[0;34m\u001b[0m\u001b[0m\n\u001b[0;32m--> 483\u001b[0;31m         \u001b[0;32mreturn\u001b[0m \u001b[0mcreate_block_manager_from_blocks\u001b[0m\u001b[0;34m(\u001b[0m\u001b[0;34m[\u001b[0m\u001b[0mvalues\u001b[0m\u001b[0;34m]\u001b[0m\u001b[0;34m,\u001b[0m \u001b[0;34m[\u001b[0m\u001b[0mcolumns\u001b[0m\u001b[0;34m,\u001b[0m \u001b[0mindex\u001b[0m\u001b[0;34m]\u001b[0m\u001b[0;34m)\u001b[0m\u001b[0;34m\u001b[0m\u001b[0m\n\u001b[0m\u001b[1;32m    484\u001b[0m \u001b[0;34m\u001b[0m\u001b[0m\n\u001b[1;32m    485\u001b[0m     \u001b[0;34m@\u001b[0m\u001b[0mproperty\u001b[0m\u001b[0;34m\u001b[0m\u001b[0m\n",
      "\u001b[0;32m/Users/derrick.cho/anaconda3/envs/taxdata_temp/lib/python2.7/site-packages/pandas/core/internals.pyc\u001b[0m in \u001b[0;36mcreate_block_manager_from_blocks\u001b[0;34m(blocks, axes)\u001b[0m\n\u001b[1;32m   4301\u001b[0m         \u001b[0mblocks\u001b[0m \u001b[0;34m=\u001b[0m \u001b[0;34m[\u001b[0m\u001b[0mgetattr\u001b[0m\u001b[0;34m(\u001b[0m\u001b[0mb\u001b[0m\u001b[0;34m,\u001b[0m \u001b[0;34m'values'\u001b[0m\u001b[0;34m,\u001b[0m \u001b[0mb\u001b[0m\u001b[0;34m)\u001b[0m \u001b[0;32mfor\u001b[0m \u001b[0mb\u001b[0m \u001b[0;32min\u001b[0m \u001b[0mblocks\u001b[0m\u001b[0;34m]\u001b[0m\u001b[0;34m\u001b[0m\u001b[0m\n\u001b[1;32m   4302\u001b[0m         \u001b[0mtot_items\u001b[0m \u001b[0;34m=\u001b[0m \u001b[0msum\u001b[0m\u001b[0;34m(\u001b[0m\u001b[0mb\u001b[0m\u001b[0;34m.\u001b[0m\u001b[0mshape\u001b[0m\u001b[0;34m[\u001b[0m\u001b[0;36m0\u001b[0m\u001b[0;34m]\u001b[0m \u001b[0;32mfor\u001b[0m \u001b[0mb\u001b[0m \u001b[0;32min\u001b[0m \u001b[0mblocks\u001b[0m\u001b[0;34m)\u001b[0m\u001b[0;34m\u001b[0m\u001b[0m\n\u001b[0;32m-> 4303\u001b[0;31m         \u001b[0mconstruction_error\u001b[0m\u001b[0;34m(\u001b[0m\u001b[0mtot_items\u001b[0m\u001b[0;34m,\u001b[0m \u001b[0mblocks\u001b[0m\u001b[0;34m[\u001b[0m\u001b[0;36m0\u001b[0m\u001b[0;34m]\u001b[0m\u001b[0;34m.\u001b[0m\u001b[0mshape\u001b[0m\u001b[0;34m[\u001b[0m\u001b[0;36m1\u001b[0m\u001b[0;34m:\u001b[0m\u001b[0;34m]\u001b[0m\u001b[0;34m,\u001b[0m \u001b[0maxes\u001b[0m\u001b[0;34m,\u001b[0m \u001b[0me\u001b[0m\u001b[0;34m)\u001b[0m\u001b[0;34m\u001b[0m\u001b[0m\n\u001b[0m\u001b[1;32m   4304\u001b[0m \u001b[0;34m\u001b[0m\u001b[0m\n\u001b[1;32m   4305\u001b[0m \u001b[0;34m\u001b[0m\u001b[0m\n",
      "\u001b[0;32m/Users/derrick.cho/anaconda3/envs/taxdata_temp/lib/python2.7/site-packages/pandas/core/internals.pyc\u001b[0m in \u001b[0;36mconstruction_error\u001b[0;34m(tot_items, block_shape, axes, e)\u001b[0m\n\u001b[1;32m   4278\u001b[0m         \u001b[0;32mraise\u001b[0m \u001b[0mValueError\u001b[0m\u001b[0;34m(\u001b[0m\u001b[0;34m\"Empty data passed with indices specified.\"\u001b[0m\u001b[0;34m)\u001b[0m\u001b[0;34m\u001b[0m\u001b[0m\n\u001b[1;32m   4279\u001b[0m     raise ValueError(\"Shape of passed values is {0}, indices imply {1}\".format(\n\u001b[0;32m-> 4280\u001b[0;31m         passed, implied))\n\u001b[0m\u001b[1;32m   4281\u001b[0m \u001b[0;34m\u001b[0m\u001b[0m\n\u001b[1;32m   4282\u001b[0m \u001b[0;34m\u001b[0m\u001b[0m\n",
      "\u001b[0;31mValueError\u001b[0m: Shape of passed values is (18, 249087), indices imply (17, 249087)"
     ]
    }
   ],
   "source": [
    "z = df(z, columns=['WT2011','WT2012','WT2013','WT2014',\n",
    "                   'WT2015','WT2016','WT2017','WT2018','WT2019','WT2020','WT2021',\n",
    "                   'WT2022','WT2023','WT2024', 'WT2025', 'WT2026', 'WT2027'])\n",
    "z = z.round(0).astype('int64')\n",
    "z.to_csv('puf_weights.csv', index = False)"
   ]
  },
  {
   "cell_type": "code",
   "execution_count": null,
   "metadata": {
    "collapsed": true
   },
   "outputs": [],
   "source": []
  }
 ],
 "metadata": {
  "anaconda-cloud": {},
  "kernelspec": {
   "display_name": "taxdata_temp",
   "language": "python",
   "name": "taxdata_temp"
  },
  "language_info": {
   "codemirror_mode": {
    "name": "ipython",
    "version": 2
   },
   "file_extension": ".py",
   "mimetype": "text/x-python",
   "name": "python",
   "nbconvert_exporter": "python",
   "pygments_lexer": "ipython2",
   "version": "2.7.14"
  }
 },
 "nbformat": 4,
 "nbformat_minor": 1
}
