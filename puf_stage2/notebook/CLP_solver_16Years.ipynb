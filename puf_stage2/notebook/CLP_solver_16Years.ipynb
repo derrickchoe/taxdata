{
 "cells": [
  {
   "cell_type": "code",
   "execution_count": 1,
   "metadata": {
    "collapsed": true
   },
   "outputs": [],
   "source": [
    "import numpy as np\n",
    "import pandas as pd\n",
    "from pandas import DataFrame as df\n",
    "from cylp.cy import CyClpSimplex\n",
    "from cylp.py.modeling.CyLPModel import CyLPArray, CyLPModel\n",
    "import sys\n",
    "sys.path.append(\"/Users/derrick.cho/Desktop/taxdata/puf_stage2\")\n",
    "from solve_lp_for_year import solve_lp_for_year"
   ]
  },
  {
   "cell_type": "code",
   "execution_count": 2,
   "metadata": {
    "collapsed": true
   },
   "outputs": [],
   "source": [
    "puf = pd.read_csv(\"../../puf_data/cps-matched-puf.csv\")\n",
    "Stage_I_factors = df.from_csv(\"../../stage1/Stage_I_factors_transpose.csv\", index_col = 0)\n",
    "Stage_II_targets = df.from_csv(\"../../stage1/Stage_II_targets.csv\", index_col= 0)"
   ]
  },
  {
   "cell_type": "code",
   "execution_count": 3,
   "metadata": {
    "collapsed": true
   },
   "outputs": [],
   "source": [
    "length = len(puf.s006)\n",
    "z = np.empty([length, 18])\n",
    "z[:,0] = puf.s006/100"
   ]
  },
  {
   "cell_type": "code",
   "execution_count": 6,
   "metadata": {},
   "outputs": [
    {
     "name": "stdout",
     "output_type": "stream",
     "text": [
      "Preparing coefficient matrix for year 2012 .....\n",
      "Preparing targets for year 2012 .....\n",
      "Targets for year 2012 are:\n",
      "[ -5.48077691e+07  -4.79414942e+07  -8.47549901e+06  -2.04048929e+07\n",
      "  -6.19695094e+07  -4.36800084e+10  -6.81678981e+10  -1.87348661e+11\n",
      "  -2.98044370e+10  -1.09955755e+11  -4.47931272e+11  -1.25667287e+11\n",
      "  -2.68524387e+10  -3.65080781e+11  -7.40093876e+10  -7.48505144e+09\n",
      "  -7.33411634e+10  -2.02248173e+11  -2.90465688e+11  -3.06745267e+11\n",
      "  -3.13714662e+11  -7.48820804e+11  -6.84328040e+11  -1.28180677e+12\n",
      "  -4.74611112e+11   9.54561993e+09   7.30420139e+10   6.97639280e+05\n",
      "  -3.51093138e+05  -9.80307754e+05  -1.76476413e+06  -6.54014360e+05\n",
      "  -8.09736073e+04]\n",
      "Adding constraints for year 2012 .....\n",
      "Setting up the LP model for year 2012 .....\n",
      "Solving LP for year 2012 .....\n",
      "DONE solving LP for year 2012\n"
     ]
    }
   ],
   "source": [
    "z[:,1] = solve_lp_for_year(puf, Stage_I_factors, Stage_II_targets, year = '2012', tol = 1.4)"
   ]
  },
  {
   "cell_type": "code",
   "execution_count": null,
   "metadata": {},
   "outputs": [],
   "source": [
    "z[:,2] = solve_lp_for_year(puf, Stage_I_factors, Stage_II_targets, year = '2013', tol = 0.48)"
   ]
  },
  {
   "cell_type": "code",
   "execution_count": null,
   "metadata": {},
   "outputs": [],
   "source": [
    "z[:,3] = solve_lp_for_year(puf, Stage_I_factors, Stage_II_targets, year = '2014', tol = 0.50)"
   ]
  },
  {
   "cell_type": "code",
   "execution_count": null,
   "metadata": {},
   "outputs": [],
   "source": [
    "z[:,4] = solve_lp_for_year(puf, Stage_I_factors, Stage_II_targets, year = '2015', tol = 0.50)"
   ]
  },
  {
   "cell_type": "code",
   "execution_count": null,
   "metadata": {},
   "outputs": [],
   "source": [
    "z[:,5] = solve_lp_for_year(puf, Stage_I_factors, Stage_II_targets, year = '2016', tol = 0.51)"
   ]
  },
  {
   "cell_type": "code",
   "execution_count": null,
   "metadata": {},
   "outputs": [],
   "source": [
    "z[:,6] = solve_lp_for_year(puf, Stage_I_factors, Stage_II_targets, year = '2017', tol = 0.51)"
   ]
  },
  {
   "cell_type": "code",
   "execution_count": null,
   "metadata": {},
   "outputs": [],
   "source": [
    "z[:,7] = solve_lp_for_year(puf, Stage_I_factors, Stage_II_targets, year = '2018', tol = 1)"
   ]
  },
  {
   "cell_type": "code",
   "execution_count": null,
   "metadata": {},
   "outputs": [],
   "source": [
    "z[:,8] = solve_lp_for_year(puf, Stage_I_factors, Stage_II_targets, year = '2019', tol = 0.52)"
   ]
  },
  {
   "cell_type": "code",
   "execution_count": null,
   "metadata": {},
   "outputs": [],
   "source": [
    "z[:,9] = solve_lp_for_year(puf, Stage_I_factors, Stage_II_targets, year = '2020', tol = 0.52)"
   ]
  },
  {
   "cell_type": "code",
   "execution_count": null,
   "metadata": {},
   "outputs": [],
   "source": [
    "z[:,10] = solve_lp_for_year(puf, Stage_I_factors, Stage_II_targets, year = '2021', tol = 0.52)"
   ]
  },
  {
   "cell_type": "code",
   "execution_count": null,
   "metadata": {},
   "outputs": [],
   "source": [
    "z[:,11] = solve_lp_for_year(puf, Stage_I_factors, Stage_II_targets, year = '2022', tol = 0.53)"
   ]
  },
  {
   "cell_type": "code",
   "execution_count": null,
   "metadata": {},
   "outputs": [],
   "source": [
    "z[:,12] = solve_lp_for_year(puf, Stage_I_factors, Stage_II_targets, year = '2023', tol = 0.53)"
   ]
  },
  {
   "cell_type": "code",
   "execution_count": null,
   "metadata": {},
   "outputs": [],
   "source": [
    "z[:,13] = solve_lp_for_year(puf, Stage_I_factors, Stage_II_targets, year = '2024', tol = 0.54)"
   ]
  },
  {
   "cell_type": "code",
   "execution_count": null,
   "metadata": {},
   "outputs": [],
   "source": [
    "z[:,14] = solve_lp_for_year(puf, Stage_I_factors, Stage_II_targets, year = '2025', tol = 0.55)"
   ]
  },
  {
   "cell_type": "code",
   "execution_count": null,
   "metadata": {},
   "outputs": [],
   "source": [
    "z[:,15] = solve_lp_for_year(puf, Stage_I_factors, Stage_II_targets, year = '2026', tol = 0.56)"
   ]
  },
  {
   "cell_type": "code",
   "execution_count": null,
   "metadata": {},
   "outputs": [],
   "source": [
    "z[:,17] = solve_lp_for_year(puf, Stage_I_factors, Stage_II_targets, year = '2027', tol = 0.56)"
   ]
  },
  {
   "cell_type": "code",
   "execution_count": null,
   "metadata": {},
   "outputs": [],
   "source": [
    "z = df(z, columns=['WT2011','WT2012','WT2013','WT2014',\n",
    "                   'WT2015','WT2016','WT2017','WT2018','WT2019','WT2020','WT2021',\n",
    "                   'WT2022','WT2023','WT2024', 'WT2025', 'WT2026', 'WT2027'])\n",
    "z = z.round(0).astype('int64')\n",
    "z.to_csv('puf_weights.csv', index = False)"
   ]
  },
  {
   "cell_type": "code",
   "execution_count": null,
   "metadata": {
    "collapsed": true
   },
   "outputs": [],
   "source": []
  }
 ],
 "metadata": {
  "anaconda-cloud": {},
  "kernelspec": {
   "display_name": "taxdata_temp",
   "language": "python",
   "name": "taxdata_temp"
  },
  "language_info": {
   "codemirror_mode": {
    "name": "ipython",
    "version": 2
   },
   "file_extension": ".py",
   "mimetype": "text/x-python",
   "name": "python",
   "nbconvert_exporter": "python",
   "pygments_lexer": "ipython2",
   "version": "2.7.14"
  }
 },
 "nbformat": 4,
 "nbformat_minor": 1
}
